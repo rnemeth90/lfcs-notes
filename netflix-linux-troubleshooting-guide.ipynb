{
 "cells": [
  {
   "cell_type": "markdown",
   "metadata": {},
   "source": [
    "uptime\n",
    "dmesg | tail\n",
    "vmstat 1\n",
    "mpstat -P ALL 1\n",
    "pidstat 1\n",
    "iostat -xz 1\n",
    "free -m\n",
    "sar -n DEV 1\n",
    "sar -n TCP,ETCP 1\n",
    "top"
   ]
  }
 ],
 "metadata": {
  "kernelspec": {
   "display_name": ".NET (C#)",
   "language": "C#",
   "name": ".net-csharp"
  },
  "language_info": {
   "name": "C#"
  }
 },
 "nbformat": 4,
 "nbformat_minor": 2
}
