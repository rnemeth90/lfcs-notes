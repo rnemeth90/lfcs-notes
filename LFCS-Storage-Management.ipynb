{
 "cells": [
  {
   "cell_type": "markdown",
   "metadata": {},
   "source": [
    "# Storage Management\n",
    "\n",
    "- List, Create, and, Modify Storag\n",
    "  - `lsblk` can be used to list partitions\n",
    "    ```\n",
    "    [azureadmin@centos01 /]$ lsblk\n",
    "    NAME    MAJ:MIN RM  SIZE RO TYPE MOUNTPOINT\n",
    "    sda       8:0    0   30G  0 disk\n",
    "    ├─sda1    8:1    0  500M  0 part /boot\n",
    "    ├─sda2    8:2    0   29G  0 part /\n",
    "    ├─sda14   8:14   0    4M  0 part\n",
    "    └─sda15   8:15   0  495M  0 part /boot/efi\n",
    "    sdb       8:16   0   64G  0 disk\n",
    "    └─sdb1    8:17   0   64G  0 part /mnt/resource\n",
    "    ```\n",
    "  - All block devices can be found in the `/dev/` directory\n",
    "  - `sudo fdisk -l /dev/sda` can be used to view detailed info about partitions on a block device\n",
    "  - `cfdisk` can be used to creat a partition on a disk, and is easier to use that `fdisk` \n",
    "    - `cfdisk` can be used to resize existing partitions\n",
    "\n",
    "- Create and Manage Swap Space\n",
    "  - swap is used when no RAM is available\n",
    "  - swapping is also known as paging\n",
    "  - swapping is almost always slower than working with RAM\n",
    "  - `mkswap` can be used to create swap space\n",
    "    - `sudo mkwap /dev/sda2`\n",
    "  - `swapon` can be used to work with swap space\n",
    "    - `swapon --show`\n",
    "  - `dd` can be used to write random data to a disk\n",
    "    - `sudo dd if=/dev/zero of=/dev/sdc2 bs=1M count=128 status=progress`\n",
    "\n",
    "- Create and Configure File Systems\n",
    "  - To create a XFS file system:\n",
    "    - `sudo mkfs.xfs /dev/sdb1`\n",
    "  - To create a EXT4 file system:\n",
    "    - `sudo mkfs.ext4 /dev/sdb1`\n",
    "  - `xfs_admin` can be used to change things on an already created xfs file system\n",
    "  - `tune2fs`\n",
    "\n",
    "- Configure Systems to Mount File Systems at Boot Time\n",
    "  - File systems are typically mounted in `/mnt`\n",
    "  - To mount a file system:\n",
    "    - `sudo mount /dev/vdb1 /mnt/vdb1`\n",
    "  - To unmount a file system:\n",
    "    - `sudo umount /mnt/vdb1`\n",
    "  - `/etc/fstab` contains persistent mount information for disks\n",
    "  - `swaplabel` can be used to configure the label of swap partitions\n",
    "    - `sudo swaplabel -L myLabel /dev/sda1`\n"
   ]
  }
 ],
 "metadata": {
  "kernelspec": {
   "display_name": ".NET (C#)",
   "language": "C#",
   "name": ".net-csharp"
  },
  "language_info": {
   "name": "C#"
  }
 },
 "nbformat": 4,
 "nbformat_minor": 2
}
